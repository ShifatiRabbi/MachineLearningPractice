{
 "cells": [
  {
   "cell_type": "code",
   "execution_count": 2,
   "id": "119a89c4",
   "metadata": {},
   "outputs": [],
   "source": [
    "import numpy as np\n",
    "import pandas as pd"
   ]
  },
  {
   "cell_type": "code",
   "execution_count": 3,
   "id": "242325f9",
   "metadata": {},
   "outputs": [],
   "source": [
    "dataset = pd.read_csv('data.csv')"
   ]
  },
  {
   "cell_type": "code",
   "execution_count": 4,
   "id": "3a68334f",
   "metadata": {},
   "outputs": [
    {
     "data": {
      "text/html": [
       "<div>\n",
       "<style scoped>\n",
       "    .dataframe tbody tr th:only-of-type {\n",
       "        vertical-align: middle;\n",
       "    }\n",
       "\n",
       "    .dataframe tbody tr th {\n",
       "        vertical-align: top;\n",
       "    }\n",
       "\n",
       "    .dataframe thead th {\n",
       "        text-align: right;\n",
       "    }\n",
       "</style>\n",
       "<table border=\"1\" class=\"dataframe\">\n",
       "  <thead>\n",
       "    <tr style=\"text-align: right;\">\n",
       "      <th></th>\n",
       "      <th>Number</th>\n",
       "      <th>City</th>\n",
       "      <th>Gender</th>\n",
       "      <th>Age</th>\n",
       "      <th>Income</th>\n",
       "      <th>Married</th>\n",
       "    </tr>\n",
       "  </thead>\n",
       "  <tbody>\n",
       "    <tr>\n",
       "      <th>0</th>\n",
       "      <td>1</td>\n",
       "      <td>Dhaka</td>\n",
       "      <td>Male</td>\n",
       "      <td>22.0</td>\n",
       "      <td>20000.0</td>\n",
       "      <td>No</td>\n",
       "    </tr>\n",
       "    <tr>\n",
       "      <th>1</th>\n",
       "      <td>2</td>\n",
       "      <td>Rajshahi</td>\n",
       "      <td>Female</td>\n",
       "      <td>26.0</td>\n",
       "      <td>32000.0</td>\n",
       "      <td>Yes</td>\n",
       "    </tr>\n",
       "    <tr>\n",
       "      <th>2</th>\n",
       "      <td>3</td>\n",
       "      <td>Khulna</td>\n",
       "      <td>Female</td>\n",
       "      <td>34.0</td>\n",
       "      <td>30000.0</td>\n",
       "      <td>Yes</td>\n",
       "    </tr>\n",
       "    <tr>\n",
       "      <th>3</th>\n",
       "      <td>4</td>\n",
       "      <td>Dhaka</td>\n",
       "      <td>Female</td>\n",
       "      <td>28.0</td>\n",
       "      <td>30000.0</td>\n",
       "      <td>Yes</td>\n",
       "    </tr>\n",
       "    <tr>\n",
       "      <th>4</th>\n",
       "      <td>5</td>\n",
       "      <td>Comilla</td>\n",
       "      <td>Male</td>\n",
       "      <td>27.0</td>\n",
       "      <td>35000.0</td>\n",
       "      <td>Yes</td>\n",
       "    </tr>\n",
       "    <tr>\n",
       "      <th>5</th>\n",
       "      <td>6</td>\n",
       "      <td>Dhaka</td>\n",
       "      <td>Male</td>\n",
       "      <td>26.0</td>\n",
       "      <td>25000.0</td>\n",
       "      <td>No</td>\n",
       "    </tr>\n",
       "    <tr>\n",
       "      <th>6</th>\n",
       "      <td>7</td>\n",
       "      <td>Rajshahi</td>\n",
       "      <td>Male</td>\n",
       "      <td>30.0</td>\n",
       "      <td>40000.0</td>\n",
       "      <td>No</td>\n",
       "    </tr>\n",
       "    <tr>\n",
       "      <th>7</th>\n",
       "      <td>8</td>\n",
       "      <td>Dhaka</td>\n",
       "      <td>Female</td>\n",
       "      <td>31.0</td>\n",
       "      <td>20000.0</td>\n",
       "      <td>Yes</td>\n",
       "    </tr>\n",
       "    <tr>\n",
       "      <th>8</th>\n",
       "      <td>9</td>\n",
       "      <td>Rajshahi</td>\n",
       "      <td>Male</td>\n",
       "      <td>28.0</td>\n",
       "      <td>30000.0</td>\n",
       "      <td>No</td>\n",
       "    </tr>\n",
       "    <tr>\n",
       "      <th>9</th>\n",
       "      <td>10</td>\n",
       "      <td>Rajshahi</td>\n",
       "      <td>Female</td>\n",
       "      <td>29.0</td>\n",
       "      <td>NaN</td>\n",
       "      <td>No</td>\n",
       "    </tr>\n",
       "    <tr>\n",
       "      <th>10</th>\n",
       "      <td>11</td>\n",
       "      <td>Khulna</td>\n",
       "      <td>Male</td>\n",
       "      <td>27.0</td>\n",
       "      <td>30000.0</td>\n",
       "      <td>Yes</td>\n",
       "    </tr>\n",
       "    <tr>\n",
       "      <th>11</th>\n",
       "      <td>12</td>\n",
       "      <td>Dhaka</td>\n",
       "      <td>Female</td>\n",
       "      <td>25.0</td>\n",
       "      <td>25000.0</td>\n",
       "      <td>No</td>\n",
       "    </tr>\n",
       "    <tr>\n",
       "      <th>12</th>\n",
       "      <td>13</td>\n",
       "      <td>Rajshahi</td>\n",
       "      <td>Female</td>\n",
       "      <td>22.0</td>\n",
       "      <td>NaN</td>\n",
       "      <td>No</td>\n",
       "    </tr>\n",
       "    <tr>\n",
       "      <th>13</th>\n",
       "      <td>14</td>\n",
       "      <td>Dhaka</td>\n",
       "      <td>Male</td>\n",
       "      <td>31.0</td>\n",
       "      <td>32000.0</td>\n",
       "      <td>Yes</td>\n",
       "    </tr>\n",
       "    <tr>\n",
       "      <th>14</th>\n",
       "      <td>15</td>\n",
       "      <td>Comilla</td>\n",
       "      <td>Female</td>\n",
       "      <td>NaN</td>\n",
       "      <td>20000.0</td>\n",
       "      <td>No</td>\n",
       "    </tr>\n",
       "    <tr>\n",
       "      <th>15</th>\n",
       "      <td>16</td>\n",
       "      <td>Comilla</td>\n",
       "      <td>Female</td>\n",
       "      <td>23.0</td>\n",
       "      <td>NaN</td>\n",
       "      <td>Yes</td>\n",
       "    </tr>\n",
       "    <tr>\n",
       "      <th>16</th>\n",
       "      <td>17</td>\n",
       "      <td>Comilla</td>\n",
       "      <td>Male</td>\n",
       "      <td>32.0</td>\n",
       "      <td>30000.0</td>\n",
       "      <td>No</td>\n",
       "    </tr>\n",
       "    <tr>\n",
       "      <th>17</th>\n",
       "      <td>18</td>\n",
       "      <td>Khulna</td>\n",
       "      <td>Male</td>\n",
       "      <td>30.0</td>\n",
       "      <td>50000.0</td>\n",
       "      <td>Yes</td>\n",
       "    </tr>\n",
       "    <tr>\n",
       "      <th>18</th>\n",
       "      <td>19</td>\n",
       "      <td>Comilla</td>\n",
       "      <td>Male</td>\n",
       "      <td>29.0</td>\n",
       "      <td>30000.0</td>\n",
       "      <td>Yes</td>\n",
       "    </tr>\n",
       "    <tr>\n",
       "      <th>19</th>\n",
       "      <td>20</td>\n",
       "      <td>Dhaka</td>\n",
       "      <td>Male</td>\n",
       "      <td>26.0</td>\n",
       "      <td>25000.0</td>\n",
       "      <td>No</td>\n",
       "    </tr>\n",
       "  </tbody>\n",
       "</table>\n",
       "</div>"
      ],
      "text/plain": [
       "    Number      City  Gender   Age   Income Married\n",
       "0        1     Dhaka    Male  22.0  20000.0      No\n",
       "1        2  Rajshahi  Female  26.0  32000.0     Yes\n",
       "2        3    Khulna  Female  34.0  30000.0     Yes\n",
       "3        4     Dhaka  Female  28.0  30000.0     Yes\n",
       "4        5   Comilla    Male  27.0  35000.0     Yes\n",
       "5        6     Dhaka    Male  26.0  25000.0      No\n",
       "6        7  Rajshahi    Male  30.0  40000.0      No\n",
       "7        8     Dhaka  Female  31.0  20000.0     Yes\n",
       "8        9  Rajshahi    Male  28.0  30000.0      No\n",
       "9       10  Rajshahi  Female  29.0      NaN      No\n",
       "10      11    Khulna    Male  27.0  30000.0     Yes\n",
       "11      12     Dhaka  Female  25.0  25000.0      No\n",
       "12      13  Rajshahi  Female  22.0      NaN      No\n",
       "13      14     Dhaka    Male  31.0  32000.0     Yes\n",
       "14      15   Comilla  Female   NaN  20000.0      No\n",
       "15      16   Comilla  Female  23.0      NaN     Yes\n",
       "16      17   Comilla    Male  32.0  30000.0      No\n",
       "17      18    Khulna    Male  30.0  50000.0     Yes\n",
       "18      19   Comilla    Male  29.0  30000.0     Yes\n",
       "19      20     Dhaka    Male  26.0  25000.0      No"
      ]
     },
     "execution_count": 4,
     "metadata": {},
     "output_type": "execute_result"
    }
   ],
   "source": [
    "dataset"
   ]
  },
  {
   "cell_type": "code",
   "execution_count": 5,
   "id": "993f13f7",
   "metadata": {},
   "outputs": [],
   "source": [
    "x = dataset[['City', 'Gender', 'Age', 'Income']].values"
   ]
  },
  {
   "cell_type": "code",
   "execution_count": 6,
   "id": "a5e23aac",
   "metadata": {},
   "outputs": [
    {
     "data": {
      "text/plain": [
       "array([['Dhaka', 'Male', 22.0, 20000.0],\n",
       "       ['Rajshahi', 'Female', 26.0, 32000.0],\n",
       "       ['Khulna', 'Female', 34.0, 30000.0],\n",
       "       ['Dhaka', 'Female', 28.0, 30000.0],\n",
       "       ['Comilla', 'Male', 27.0, 35000.0],\n",
       "       ['Dhaka', 'Male', 26.0, 25000.0],\n",
       "       ['Rajshahi', 'Male', 30.0, 40000.0],\n",
       "       ['Dhaka', 'Female', 31.0, 20000.0],\n",
       "       ['Rajshahi', 'Male', 28.0, 30000.0],\n",
       "       ['Rajshahi', 'Female', 29.0, nan],\n",
       "       ['Khulna', 'Male', 27.0, 30000.0],\n",
       "       ['Dhaka', 'Female', 25.0, 25000.0],\n",
       "       ['Rajshahi', 'Female', 22.0, nan],\n",
       "       ['Dhaka', 'Male', 31.0, 32000.0],\n",
       "       ['Comilla', 'Female', nan, 20000.0],\n",
       "       ['Comilla', 'Female', 23.0, nan],\n",
       "       ['Comilla', 'Male', 32.0, 30000.0],\n",
       "       ['Khulna', 'Male', 30.0, 50000.0],\n",
       "       ['Comilla', 'Male', 29.0, 30000.0],\n",
       "       ['Dhaka', 'Male', 26.0, 25000.0]], dtype=object)"
      ]
     },
     "execution_count": 6,
     "metadata": {},
     "output_type": "execute_result"
    }
   ],
   "source": [
    "x"
   ]
  },
  {
   "cell_type": "code",
   "execution_count": 7,
   "id": "5731f644",
   "metadata": {},
   "outputs": [],
   "source": [
    "y = dataset[['Married']].values"
   ]
  },
  {
   "cell_type": "code",
   "execution_count": 8,
   "id": "b1b724ed",
   "metadata": {},
   "outputs": [
    {
     "data": {
      "text/plain": [
       "array([['No'],\n",
       "       ['Yes'],\n",
       "       ['Yes'],\n",
       "       ['Yes'],\n",
       "       ['Yes'],\n",
       "       ['No'],\n",
       "       ['No'],\n",
       "       ['Yes'],\n",
       "       ['No'],\n",
       "       ['No'],\n",
       "       ['Yes'],\n",
       "       ['No'],\n",
       "       ['No'],\n",
       "       ['Yes'],\n",
       "       ['No'],\n",
       "       ['Yes'],\n",
       "       ['No'],\n",
       "       ['Yes'],\n",
       "       ['Yes'],\n",
       "       ['No']], dtype=object)"
      ]
     },
     "execution_count": 8,
     "metadata": {},
     "output_type": "execute_result"
    }
   ],
   "source": [
    "y"
   ]
  },
  {
   "cell_type": "code",
   "execution_count": 9,
   "id": "586b56b9",
   "metadata": {},
   "outputs": [],
   "source": [
    "from sklearn.impute import SimpleImputer"
   ]
  },
  {
   "cell_type": "code",
   "execution_count": 10,
   "id": "e0c7f257",
   "metadata": {},
   "outputs": [],
   "source": [
    "imputer = SimpleImputer(missing_values=np.nan, strategy='mean')"
   ]
  },
  {
   "cell_type": "code",
   "execution_count": 11,
   "id": "8f38b68f",
   "metadata": {},
   "outputs": [],
   "source": [
    "imputer = imputer.fit(x[:,2:4])"
   ]
  },
  {
   "cell_type": "code",
   "execution_count": 12,
   "id": "6748751a",
   "metadata": {},
   "outputs": [],
   "source": [
    "x[:,2:4] = imputer.transform(x[:,2:4])"
   ]
  },
  {
   "cell_type": "code",
   "execution_count": 13,
   "id": "8bde12ac",
   "metadata": {},
   "outputs": [
    {
     "data": {
      "text/plain": [
       "array([['Dhaka', 'Male', 22.0, 20000.0],\n",
       "       ['Rajshahi', 'Female', 26.0, 32000.0],\n",
       "       ['Khulna', 'Female', 34.0, 30000.0],\n",
       "       ['Dhaka', 'Female', 28.0, 30000.0],\n",
       "       ['Comilla', 'Male', 27.0, 35000.0],\n",
       "       ['Dhaka', 'Male', 26.0, 25000.0],\n",
       "       ['Rajshahi', 'Male', 30.0, 40000.0],\n",
       "       ['Dhaka', 'Female', 31.0, 20000.0],\n",
       "       ['Rajshahi', 'Male', 28.0, 30000.0],\n",
       "       ['Rajshahi', 'Female', 29.0, 29647.058823529413],\n",
       "       ['Khulna', 'Male', 27.0, 30000.0],\n",
       "       ['Dhaka', 'Female', 25.0, 25000.0],\n",
       "       ['Rajshahi', 'Female', 22.0, 29647.058823529413],\n",
       "       ['Dhaka', 'Male', 31.0, 32000.0],\n",
       "       ['Comilla', 'Female', 27.68421052631579, 20000.0],\n",
       "       ['Comilla', 'Female', 23.0, 29647.058823529413],\n",
       "       ['Comilla', 'Male', 32.0, 30000.0],\n",
       "       ['Khulna', 'Male', 30.0, 50000.0],\n",
       "       ['Comilla', 'Male', 29.0, 30000.0],\n",
       "       ['Dhaka', 'Male', 26.0, 25000.0]], dtype=object)"
      ]
     },
     "execution_count": 13,
     "metadata": {},
     "output_type": "execute_result"
    }
   ],
   "source": [
    "x"
   ]
  },
  {
   "cell_type": "code",
   "execution_count": 14,
   "id": "c5d9aca1",
   "metadata": {},
   "outputs": [],
   "source": [
    "from sklearn.preprocessing import LabelEncoder"
   ]
  },
  {
   "cell_type": "code",
   "execution_count": 15,
   "id": "9897c527",
   "metadata": {},
   "outputs": [],
   "source": [
    "label_encoder_x = LabelEncoder()"
   ]
  },
  {
   "cell_type": "code",
   "execution_count": 16,
   "id": "5d340150",
   "metadata": {},
   "outputs": [],
   "source": [
    "x[:,1] = label_encoder_x.fit_transform(x[:,1])"
   ]
  },
  {
   "cell_type": "code",
   "execution_count": 17,
   "id": "077e5ce0",
   "metadata": {},
   "outputs": [
    {
     "data": {
      "text/plain": [
       "array([['Dhaka', 1, 22.0, 20000.0],\n",
       "       ['Rajshahi', 0, 26.0, 32000.0],\n",
       "       ['Khulna', 0, 34.0, 30000.0],\n",
       "       ['Dhaka', 0, 28.0, 30000.0],\n",
       "       ['Comilla', 1, 27.0, 35000.0],\n",
       "       ['Dhaka', 1, 26.0, 25000.0],\n",
       "       ['Rajshahi', 1, 30.0, 40000.0],\n",
       "       ['Dhaka', 0, 31.0, 20000.0],\n",
       "       ['Rajshahi', 1, 28.0, 30000.0],\n",
       "       ['Rajshahi', 0, 29.0, 29647.058823529413],\n",
       "       ['Khulna', 1, 27.0, 30000.0],\n",
       "       ['Dhaka', 0, 25.0, 25000.0],\n",
       "       ['Rajshahi', 0, 22.0, 29647.058823529413],\n",
       "       ['Dhaka', 1, 31.0, 32000.0],\n",
       "       ['Comilla', 0, 27.68421052631579, 20000.0],\n",
       "       ['Comilla', 0, 23.0, 29647.058823529413],\n",
       "       ['Comilla', 1, 32.0, 30000.0],\n",
       "       ['Khulna', 1, 30.0, 50000.0],\n",
       "       ['Comilla', 1, 29.0, 30000.0],\n",
       "       ['Dhaka', 1, 26.0, 25000.0]], dtype=object)"
      ]
     },
     "execution_count": 17,
     "metadata": {},
     "output_type": "execute_result"
    }
   ],
   "source": [
    "x"
   ]
  },
  {
   "cell_type": "code",
   "execution_count": 18,
   "id": "de9b690e",
   "metadata": {},
   "outputs": [],
   "source": [
    "x[:,0] = label_encoder_x.fit_transform(x[:,0])"
   ]
  },
  {
   "cell_type": "code",
   "execution_count": 19,
   "id": "1470cffd",
   "metadata": {},
   "outputs": [
    {
     "data": {
      "text/plain": [
       "array([[1, 1, 22.0, 20000.0],\n",
       "       [3, 0, 26.0, 32000.0],\n",
       "       [2, 0, 34.0, 30000.0],\n",
       "       [1, 0, 28.0, 30000.0],\n",
       "       [0, 1, 27.0, 35000.0],\n",
       "       [1, 1, 26.0, 25000.0],\n",
       "       [3, 1, 30.0, 40000.0],\n",
       "       [1, 0, 31.0, 20000.0],\n",
       "       [3, 1, 28.0, 30000.0],\n",
       "       [3, 0, 29.0, 29647.058823529413],\n",
       "       [2, 1, 27.0, 30000.0],\n",
       "       [1, 0, 25.0, 25000.0],\n",
       "       [3, 0, 22.0, 29647.058823529413],\n",
       "       [1, 1, 31.0, 32000.0],\n",
       "       [0, 0, 27.68421052631579, 20000.0],\n",
       "       [0, 0, 23.0, 29647.058823529413],\n",
       "       [0, 1, 32.0, 30000.0],\n",
       "       [2, 1, 30.0, 50000.0],\n",
       "       [0, 1, 29.0, 30000.0],\n",
       "       [1, 1, 26.0, 25000.0]], dtype=object)"
      ]
     },
     "execution_count": 19,
     "metadata": {},
     "output_type": "execute_result"
    }
   ],
   "source": [
    "x"
   ]
  },
  {
   "cell_type": "code",
   "execution_count": 20,
   "id": "6fbe25c4",
   "metadata": {},
   "outputs": [],
   "source": [
    "from sklearn.preprocessing import OneHotEncoder"
   ]
  },
  {
   "cell_type": "code",
   "execution_count": 21,
   "id": "7a9f81e0",
   "metadata": {},
   "outputs": [],
   "source": [
    "one_hot_encoder = OneHotEncoder()"
   ]
  },
  {
   "cell_type": "code",
   "execution_count": 22,
   "id": "7b9e3dc2",
   "metadata": {},
   "outputs": [],
   "source": [
    "x0 = one_hot_encoder.fit_transform(x[:,0].reshape(-1,1)).toarray()"
   ]
  },
  {
   "cell_type": "code",
   "execution_count": 23,
   "id": "86bb806c",
   "metadata": {},
   "outputs": [
    {
     "data": {
      "text/plain": [
       "array([[0., 1., 0., 0.],\n",
       "       [0., 0., 0., 1.],\n",
       "       [0., 0., 1., 0.],\n",
       "       [0., 1., 0., 0.],\n",
       "       [1., 0., 0., 0.],\n",
       "       [0., 1., 0., 0.],\n",
       "       [0., 0., 0., 1.],\n",
       "       [0., 1., 0., 0.],\n",
       "       [0., 0., 0., 1.],\n",
       "       [0., 0., 0., 1.],\n",
       "       [0., 0., 1., 0.],\n",
       "       [0., 1., 0., 0.],\n",
       "       [0., 0., 0., 1.],\n",
       "       [0., 1., 0., 0.],\n",
       "       [1., 0., 0., 0.],\n",
       "       [1., 0., 0., 0.],\n",
       "       [1., 0., 0., 0.],\n",
       "       [0., 0., 1., 0.],\n",
       "       [1., 0., 0., 0.],\n",
       "       [0., 1., 0., 0.]])"
      ]
     },
     "execution_count": 23,
     "metadata": {},
     "output_type": "execute_result"
    }
   ],
   "source": [
    "x0"
   ]
  },
  {
   "cell_type": "code",
   "execution_count": 24,
   "id": "ecb07c6b",
   "metadata": {},
   "outputs": [
    {
     "data": {
      "text/plain": [
       "array([[1, 1, 22.0, 20000.0],\n",
       "       [3, 0, 26.0, 32000.0],\n",
       "       [2, 0, 34.0, 30000.0],\n",
       "       [1, 0, 28.0, 30000.0],\n",
       "       [0, 1, 27.0, 35000.0],\n",
       "       [1, 1, 26.0, 25000.0],\n",
       "       [3, 1, 30.0, 40000.0],\n",
       "       [1, 0, 31.0, 20000.0],\n",
       "       [3, 1, 28.0, 30000.0],\n",
       "       [3, 0, 29.0, 29647.058823529413],\n",
       "       [2, 1, 27.0, 30000.0],\n",
       "       [1, 0, 25.0, 25000.0],\n",
       "       [3, 0, 22.0, 29647.058823529413],\n",
       "       [1, 1, 31.0, 32000.0],\n",
       "       [0, 0, 27.68421052631579, 20000.0],\n",
       "       [0, 0, 23.0, 29647.058823529413],\n",
       "       [0, 1, 32.0, 30000.0],\n",
       "       [2, 1, 30.0, 50000.0],\n",
       "       [0, 1, 29.0, 30000.0],\n",
       "       [1, 1, 26.0, 25000.0]], dtype=object)"
      ]
     },
     "execution_count": 24,
     "metadata": {},
     "output_type": "execute_result"
    }
   ],
   "source": [
    "x"
   ]
  },
  {
   "cell_type": "code",
   "execution_count": 25,
   "id": "cd7192ec",
   "metadata": {},
   "outputs": [],
   "source": [
    "label_encoder_y = LabelEncoder()"
   ]
  },
  {
   "cell_type": "code",
   "execution_count": 26,
   "id": "9930dd96",
   "metadata": {},
   "outputs": [
    {
     "name": "stderr",
     "output_type": "stream",
     "text": [
      "F:\\4-2\\conda\\Lib\\site-packages\\sklearn\\preprocessing\\_label.py:114: DataConversionWarning: A column-vector y was passed when a 1d array was expected. Please change the shape of y to (n_samples, ), for example using ravel().\n",
      "  y = column_or_1d(y, warn=True)\n"
     ]
    }
   ],
   "source": [
    "y = label_encoder_y.fit_transform(y)"
   ]
  },
  {
   "cell_type": "code",
   "execution_count": 27,
   "id": "2cf7afdb",
   "metadata": {},
   "outputs": [
    {
     "data": {
      "text/plain": [
       "array([0, 1, 1, 1, 1, 0, 0, 1, 0, 0, 1, 0, 0, 1, 0, 1, 0, 1, 1, 0])"
      ]
     },
     "execution_count": 27,
     "metadata": {},
     "output_type": "execute_result"
    }
   ],
   "source": [
    "y"
   ]
  },
  {
   "cell_type": "code",
   "execution_count": 28,
   "id": "89cb950f",
   "metadata": {},
   "outputs": [],
   "source": [
    "from sklearn.model_selection import train_test_split"
   ]
  },
  {
   "cell_type": "code",
   "execution_count": 29,
   "id": "c106d558",
   "metadata": {},
   "outputs": [],
   "source": [
    "train_x, test_x, train_y, test_y = train_test_split(x, y, test_size=0.2, random_state=0)"
   ]
  },
  {
   "cell_type": "code",
   "execution_count": 30,
   "id": "0f847079",
   "metadata": {},
   "outputs": [
    {
     "data": {
      "text/plain": [
       "array([[2, 1, 27.0, 30000.0],\n",
       "       [2, 1, 30.0, 50000.0],\n",
       "       [3, 1, 30.0, 40000.0],\n",
       "       [1, 1, 31.0, 32000.0],\n",
       "       [0, 1, 27.0, 35000.0],\n",
       "       [2, 0, 34.0, 30000.0],\n",
       "       [1, 1, 26.0, 25000.0],\n",
       "       [0, 0, 27.68421052631579, 20000.0],\n",
       "       [3, 0, 29.0, 29647.058823529413],\n",
       "       [1, 0, 31.0, 20000.0],\n",
       "       [0, 1, 32.0, 30000.0],\n",
       "       [1, 0, 25.0, 25000.0],\n",
       "       [1, 0, 28.0, 30000.0],\n",
       "       [1, 1, 22.0, 20000.0],\n",
       "       [0, 0, 23.0, 29647.058823529413],\n",
       "       [3, 0, 22.0, 29647.058823529413]], dtype=object)"
      ]
     },
     "execution_count": 30,
     "metadata": {},
     "output_type": "execute_result"
    }
   ],
   "source": [
    "train_x"
   ]
  },
  {
   "cell_type": "code",
   "execution_count": 31,
   "id": "938311cc",
   "metadata": {},
   "outputs": [
    {
     "data": {
      "text/plain": [
       "array([[0, 1, 29.0, 30000.0],\n",
       "       [3, 0, 26.0, 32000.0],\n",
       "       [1, 1, 26.0, 25000.0],\n",
       "       [3, 1, 28.0, 30000.0]], dtype=object)"
      ]
     },
     "execution_count": 31,
     "metadata": {},
     "output_type": "execute_result"
    }
   ],
   "source": [
    "test_x"
   ]
  },
  {
   "cell_type": "code",
   "execution_count": 32,
   "id": "98a60506",
   "metadata": {},
   "outputs": [
    {
     "data": {
      "text/plain": [
       "array([1, 1, 0, 1, 1, 1, 0, 0, 0, 1, 0, 0, 1, 0, 1, 0])"
      ]
     },
     "execution_count": 32,
     "metadata": {},
     "output_type": "execute_result"
    }
   ],
   "source": [
    "train_y"
   ]
  },
  {
   "cell_type": "code",
   "execution_count": 33,
   "id": "d550c382",
   "metadata": {},
   "outputs": [
    {
     "data": {
      "text/plain": [
       "array([1, 1, 0, 0])"
      ]
     },
     "execution_count": 33,
     "metadata": {},
     "output_type": "execute_result"
    }
   ],
   "source": [
    "test_y"
   ]
  },
  {
   "cell_type": "code",
   "execution_count": 34,
   "id": "7c11b90c",
   "metadata": {},
   "outputs": [],
   "source": [
    "from sklearn.preprocessing import StandardScaler"
   ]
  },
  {
   "cell_type": "code",
   "execution_count": 35,
   "id": "51462eb5",
   "metadata": {},
   "outputs": [],
   "source": [
    "sc_x = StandardScaler()"
   ]
  },
  {
   "cell_type": "code",
   "execution_count": 36,
   "id": "77e27dde",
   "metadata": {},
   "outputs": [],
   "source": [
    "train_x = sc_x.fit_transform(train_x)"
   ]
  },
  {
   "cell_type": "code",
   "execution_count": 37,
   "id": "436ae419",
   "metadata": {},
   "outputs": [],
   "source": [
    "test_x = sc_x.fit_transform(test_x)"
   ]
  },
  {
   "cell_type": "code",
   "execution_count": 38,
   "id": "517c5e22",
   "metadata": {},
   "outputs": [
    {
     "data": {
      "text/plain": [
       "array([[-1.34715063,  0.57735027,  1.34715063,  0.29002095],\n",
       "       [ 0.96225045, -1.73205081, -0.96225045,  1.06341014],\n",
       "       [-0.57735027,  0.57735027, -0.96225045, -1.64345203],\n",
       "       [ 0.96225045,  0.57735027,  0.57735027,  0.29002095]])"
      ]
     },
     "execution_count": 38,
     "metadata": {},
     "output_type": "execute_result"
    }
   ],
   "source": [
    "test_x"
   ]
  },
  {
   "cell_type": "code",
   "execution_count": 39,
   "id": "ae935f3e",
   "metadata": {},
   "outputs": [
    {
     "data": {
      "text/plain": [
       "array([[ 0.65855277,  1.        , -0.22980297,  0.03423796],\n",
       "       [ 0.65855277,  1.        ,  0.63982488,  2.73357832],\n",
       "       [ 1.61644772,  1.        ,  0.63982488,  1.38390814],\n",
       "       [-0.29934217,  1.        ,  0.92970083,  0.30417199],\n",
       "       [-1.25723711,  1.        , -0.22980297,  0.70907305],\n",
       "       [ 0.65855277, -1.        ,  1.79932868,  0.03423796],\n",
       "       [-0.29934217,  1.        , -0.51967892, -0.64059713],\n",
       "       [-1.25723711, -1.        , -0.0314668 , -1.31543223],\n",
       "       [ 1.61644772, -1.        ,  0.34994893, -0.01339746],\n",
       "       [-0.29934217, -1.        ,  0.92970083, -1.31543223],\n",
       "       [-1.25723711,  1.        ,  1.21957678,  0.03423796],\n",
       "       [-0.29934217, -1.        , -0.80955487, -0.64059713],\n",
       "       [-0.29934217, -1.        ,  0.06007298,  0.03423796],\n",
       "       [-0.29934217,  1.        , -1.67918272, -1.31543223],\n",
       "       [-1.25723711, -1.        , -1.38930677, -0.01339746],\n",
       "       [ 1.61644772, -1.        , -1.67918272, -0.01339746]])"
      ]
     },
     "execution_count": 39,
     "metadata": {},
     "output_type": "execute_result"
    }
   ],
   "source": [
    "train_x"
   ]
  },
  {
   "cell_type": "code",
   "execution_count": 59,
   "id": "dd3cb289",
   "metadata": {},
   "outputs": [
    {
     "data": {
      "text/html": [
       "<div>\n",
       "<style scoped>\n",
       "    .dataframe tbody tr th:only-of-type {\n",
       "        vertical-align: middle;\n",
       "    }\n",
       "\n",
       "    .dataframe tbody tr th {\n",
       "        vertical-align: top;\n",
       "    }\n",
       "\n",
       "    .dataframe thead th {\n",
       "        text-align: right;\n",
       "    }\n",
       "</style>\n",
       "<table border=\"1\" class=\"dataframe\">\n",
       "  <thead>\n",
       "    <tr style=\"text-align: right;\">\n",
       "      <th></th>\n",
       "      <th>Number</th>\n",
       "      <th>City</th>\n",
       "      <th>Gender</th>\n",
       "      <th>Age</th>\n",
       "      <th>Income</th>\n",
       "      <th>Married</th>\n",
       "    </tr>\n",
       "  </thead>\n",
       "  <tbody>\n",
       "    <tr>\n",
       "      <th>0</th>\n",
       "      <td>1</td>\n",
       "      <td>Dhaka</td>\n",
       "      <td>Male</td>\n",
       "      <td>22.0</td>\n",
       "      <td>20000.0</td>\n",
       "      <td>No</td>\n",
       "    </tr>\n",
       "    <tr>\n",
       "      <th>1</th>\n",
       "      <td>2</td>\n",
       "      <td>Rajshahi</td>\n",
       "      <td>Female</td>\n",
       "      <td>26.0</td>\n",
       "      <td>32000.0</td>\n",
       "      <td>Yes</td>\n",
       "    </tr>\n",
       "    <tr>\n",
       "      <th>2</th>\n",
       "      <td>3</td>\n",
       "      <td>Khulna</td>\n",
       "      <td>Female</td>\n",
       "      <td>34.0</td>\n",
       "      <td>30000.0</td>\n",
       "      <td>Yes</td>\n",
       "    </tr>\n",
       "    <tr>\n",
       "      <th>3</th>\n",
       "      <td>4</td>\n",
       "      <td>Dhaka</td>\n",
       "      <td>Female</td>\n",
       "      <td>28.0</td>\n",
       "      <td>30000.0</td>\n",
       "      <td>Yes</td>\n",
       "    </tr>\n",
       "    <tr>\n",
       "      <th>4</th>\n",
       "      <td>5</td>\n",
       "      <td>Comilla</td>\n",
       "      <td>Male</td>\n",
       "      <td>27.0</td>\n",
       "      <td>35000.0</td>\n",
       "      <td>Yes</td>\n",
       "    </tr>\n",
       "    <tr>\n",
       "      <th>5</th>\n",
       "      <td>6</td>\n",
       "      <td>Dhaka</td>\n",
       "      <td>Male</td>\n",
       "      <td>26.0</td>\n",
       "      <td>25000.0</td>\n",
       "      <td>No</td>\n",
       "    </tr>\n",
       "    <tr>\n",
       "      <th>6</th>\n",
       "      <td>7</td>\n",
       "      <td>Rajshahi</td>\n",
       "      <td>Male</td>\n",
       "      <td>30.0</td>\n",
       "      <td>40000.0</td>\n",
       "      <td>No</td>\n",
       "    </tr>\n",
       "    <tr>\n",
       "      <th>7</th>\n",
       "      <td>8</td>\n",
       "      <td>Dhaka</td>\n",
       "      <td>Female</td>\n",
       "      <td>31.0</td>\n",
       "      <td>20000.0</td>\n",
       "      <td>Yes</td>\n",
       "    </tr>\n",
       "    <tr>\n",
       "      <th>8</th>\n",
       "      <td>9</td>\n",
       "      <td>Rajshahi</td>\n",
       "      <td>Male</td>\n",
       "      <td>28.0</td>\n",
       "      <td>30000.0</td>\n",
       "      <td>No</td>\n",
       "    </tr>\n",
       "    <tr>\n",
       "      <th>9</th>\n",
       "      <td>10</td>\n",
       "      <td>Rajshahi</td>\n",
       "      <td>Female</td>\n",
       "      <td>29.0</td>\n",
       "      <td>NaN</td>\n",
       "      <td>No</td>\n",
       "    </tr>\n",
       "    <tr>\n",
       "      <th>10</th>\n",
       "      <td>11</td>\n",
       "      <td>Khulna</td>\n",
       "      <td>Male</td>\n",
       "      <td>27.0</td>\n",
       "      <td>30000.0</td>\n",
       "      <td>Yes</td>\n",
       "    </tr>\n",
       "    <tr>\n",
       "      <th>11</th>\n",
       "      <td>12</td>\n",
       "      <td>Dhaka</td>\n",
       "      <td>Female</td>\n",
       "      <td>25.0</td>\n",
       "      <td>25000.0</td>\n",
       "      <td>No</td>\n",
       "    </tr>\n",
       "    <tr>\n",
       "      <th>12</th>\n",
       "      <td>13</td>\n",
       "      <td>Rajshahi</td>\n",
       "      <td>Female</td>\n",
       "      <td>22.0</td>\n",
       "      <td>NaN</td>\n",
       "      <td>No</td>\n",
       "    </tr>\n",
       "    <tr>\n",
       "      <th>13</th>\n",
       "      <td>14</td>\n",
       "      <td>Dhaka</td>\n",
       "      <td>Male</td>\n",
       "      <td>31.0</td>\n",
       "      <td>32000.0</td>\n",
       "      <td>Yes</td>\n",
       "    </tr>\n",
       "    <tr>\n",
       "      <th>14</th>\n",
       "      <td>15</td>\n",
       "      <td>Comilla</td>\n",
       "      <td>Female</td>\n",
       "      <td>NaN</td>\n",
       "      <td>20000.0</td>\n",
       "      <td>No</td>\n",
       "    </tr>\n",
       "    <tr>\n",
       "      <th>15</th>\n",
       "      <td>16</td>\n",
       "      <td>Comilla</td>\n",
       "      <td>Female</td>\n",
       "      <td>23.0</td>\n",
       "      <td>NaN</td>\n",
       "      <td>Yes</td>\n",
       "    </tr>\n",
       "    <tr>\n",
       "      <th>16</th>\n",
       "      <td>17</td>\n",
       "      <td>Comilla</td>\n",
       "      <td>Male</td>\n",
       "      <td>32.0</td>\n",
       "      <td>30000.0</td>\n",
       "      <td>No</td>\n",
       "    </tr>\n",
       "    <tr>\n",
       "      <th>17</th>\n",
       "      <td>18</td>\n",
       "      <td>Khulna</td>\n",
       "      <td>Male</td>\n",
       "      <td>30.0</td>\n",
       "      <td>50000.0</td>\n",
       "      <td>Yes</td>\n",
       "    </tr>\n",
       "    <tr>\n",
       "      <th>18</th>\n",
       "      <td>19</td>\n",
       "      <td>Comilla</td>\n",
       "      <td>Male</td>\n",
       "      <td>29.0</td>\n",
       "      <td>30000.0</td>\n",
       "      <td>Yes</td>\n",
       "    </tr>\n",
       "    <tr>\n",
       "      <th>19</th>\n",
       "      <td>20</td>\n",
       "      <td>Dhaka</td>\n",
       "      <td>Male</td>\n",
       "      <td>26.0</td>\n",
       "      <td>25000.0</td>\n",
       "      <td>No</td>\n",
       "    </tr>\n",
       "  </tbody>\n",
       "</table>\n",
       "</div>"
      ],
      "text/plain": [
       "    Number      City  Gender   Age   Income Married\n",
       "0        1     Dhaka    Male  22.0  20000.0      No\n",
       "1        2  Rajshahi  Female  26.0  32000.0     Yes\n",
       "2        3    Khulna  Female  34.0  30000.0     Yes\n",
       "3        4     Dhaka  Female  28.0  30000.0     Yes\n",
       "4        5   Comilla    Male  27.0  35000.0     Yes\n",
       "5        6     Dhaka    Male  26.0  25000.0      No\n",
       "6        7  Rajshahi    Male  30.0  40000.0      No\n",
       "7        8     Dhaka  Female  31.0  20000.0     Yes\n",
       "8        9  Rajshahi    Male  28.0  30000.0      No\n",
       "9       10  Rajshahi  Female  29.0      NaN      No\n",
       "10      11    Khulna    Male  27.0  30000.0     Yes\n",
       "11      12     Dhaka  Female  25.0  25000.0      No\n",
       "12      13  Rajshahi  Female  22.0      NaN      No\n",
       "13      14     Dhaka    Male  31.0  32000.0     Yes\n",
       "14      15   Comilla  Female   NaN  20000.0      No\n",
       "15      16   Comilla  Female  23.0      NaN     Yes\n",
       "16      17   Comilla    Male  32.0  30000.0      No\n",
       "17      18    Khulna    Male  30.0  50000.0     Yes\n",
       "18      19   Comilla    Male  29.0  30000.0     Yes\n",
       "19      20     Dhaka    Male  26.0  25000.0      No"
      ]
     },
     "execution_count": 59,
     "metadata": {},
     "output_type": "execute_result"
    }
   ],
   "source": [
    "dataset"
   ]
  },
  {
   "cell_type": "code",
   "execution_count": 71,
   "id": "85be5446",
   "metadata": {},
   "outputs": [],
   "source": [
    "import seaborn as sns\n",
    "from sklearn import linear_model"
   ]
  },
  {
   "cell_type": "code",
   "execution_count": 72,
   "id": "7279d666",
   "metadata": {},
   "outputs": [],
   "source": [
    "df = pd.read_csv(r'C:\\Users\\WCS\\Desktop\\data1.csv')"
   ]
  },
  {
   "cell_type": "code",
   "execution_count": 73,
   "id": "c8bcb135",
   "metadata": {},
   "outputs": [
    {
     "data": {
      "text/html": [
       "<div>\n",
       "<style scoped>\n",
       "    .dataframe tbody tr th:only-of-type {\n",
       "        vertical-align: middle;\n",
       "    }\n",
       "\n",
       "    .dataframe tbody tr th {\n",
       "        vertical-align: top;\n",
       "    }\n",
       "\n",
       "    .dataframe thead th {\n",
       "        text-align: right;\n",
       "    }\n",
       "</style>\n",
       "<table border=\"1\" class=\"dataframe\">\n",
       "  <thead>\n",
       "    <tr style=\"text-align: right;\">\n",
       "      <th></th>\n",
       "      <th>Number</th>\n",
       "      <th>Age</th>\n",
       "      <th>Income</th>\n",
       "    </tr>\n",
       "  </thead>\n",
       "  <tbody>\n",
       "    <tr>\n",
       "      <th>0</th>\n",
       "      <td>1</td>\n",
       "      <td>22</td>\n",
       "      <td>20000</td>\n",
       "    </tr>\n",
       "    <tr>\n",
       "      <th>1</th>\n",
       "      <td>2</td>\n",
       "      <td>26</td>\n",
       "      <td>32000</td>\n",
       "    </tr>\n",
       "    <tr>\n",
       "      <th>2</th>\n",
       "      <td>3</td>\n",
       "      <td>34</td>\n",
       "      <td>30000</td>\n",
       "    </tr>\n",
       "    <tr>\n",
       "      <th>3</th>\n",
       "      <td>4</td>\n",
       "      <td>28</td>\n",
       "      <td>30000</td>\n",
       "    </tr>\n",
       "    <tr>\n",
       "      <th>4</th>\n",
       "      <td>5</td>\n",
       "      <td>27</td>\n",
       "      <td>35000</td>\n",
       "    </tr>\n",
       "    <tr>\n",
       "      <th>5</th>\n",
       "      <td>6</td>\n",
       "      <td>26</td>\n",
       "      <td>25000</td>\n",
       "    </tr>\n",
       "    <tr>\n",
       "      <th>6</th>\n",
       "      <td>7</td>\n",
       "      <td>30</td>\n",
       "      <td>40000</td>\n",
       "    </tr>\n",
       "    <tr>\n",
       "      <th>7</th>\n",
       "      <td>8</td>\n",
       "      <td>31</td>\n",
       "      <td>20000</td>\n",
       "    </tr>\n",
       "    <tr>\n",
       "      <th>8</th>\n",
       "      <td>9</td>\n",
       "      <td>28</td>\n",
       "      <td>30000</td>\n",
       "    </tr>\n",
       "  </tbody>\n",
       "</table>\n",
       "</div>"
      ],
      "text/plain": [
       "   Number  Age  Income\n",
       "0       1   22   20000\n",
       "1       2   26   32000\n",
       "2       3   34   30000\n",
       "3       4   28   30000\n",
       "4       5   27   35000\n",
       "5       6   26   25000\n",
       "6       7   30   40000\n",
       "7       8   31   20000\n",
       "8       9   28   30000"
      ]
     },
     "execution_count": 73,
     "metadata": {},
     "output_type": "execute_result"
    }
   ],
   "source": [
    "df"
   ]
  },
  {
   "cell_type": "code",
   "execution_count": 75,
   "id": "0aa83f33",
   "metadata": {},
   "outputs": [
    {
     "name": "stderr",
     "output_type": "stream",
     "text": [
      "F:\\4-2\\conda\\Lib\\site-packages\\seaborn\\axisgrid.py:118: UserWarning: The figure layout has changed to tight\n",
      "  self._figure.tight_layout(*args, **kwargs)\n"
     ]
    },
    {
     "data": {
      "text/plain": [
       "<seaborn.axisgrid.FacetGrid at 0x21002e472d0>"
      ]
     },
     "execution_count": 75,
     "metadata": {},
     "output_type": "execute_result"
    },
    {
     "data": {
      "image/png": "[encoded data removed]",
      "text/plain": [
       "<Figure size 500x500 with 1 Axes>"
      ]
     },
     "metadata": {},
     "output_type": "display_data"
    }
   ],
   "source": [
    "sns.lmplot(x='Age',y='Income',data=df)"
   ]
  },
  {
   "cell_type": "code",
   "execution_count": 76,
   "id": "0b4fddff",
   "metadata": {},
   "outputs": [],
   "source": [
    "reg = linear_model.LinearRegression()"
   ]
  },
  {
   "cell_type": "code",
   "execution_count": 77,
   "id": "8023ac75",
   "metadata": {},
   "outputs": [
    {
     "data": {
      "text/html": [
       "<style>#sk-container-id-1 {color: black;}#sk-container-id-1 pre{padding: 0;}#sk-container-id-1 div.sk-toggleable {background-color: white;}#sk-container-id-1 label.sk-toggleable__label {cursor: pointer;display: block;width: 100%;margin-bottom: 0;padding: 0.3em;box-sizing: border-box;text-align: center;}#sk-container-id-1 label.sk-toggleable__label-arrow:before {content: \"▸\";float: left;margin-right: 0.25em;color: #696969;}#sk-container-id-1 label.sk-toggleable__label-arrow:hover:before {color: black;}#sk-container-id-1 div.sk-estimator:hover label.sk-toggleable__label-arrow:before {color: black;}#sk-container-id-1 div.sk-toggleable__content {max-height: 0;max-width: 0;overflow: hidden;text-align: left;background-color: #f0f8ff;}#sk-container-id-1 div.sk-toggleable__content pre {margin: 0.2em;color: black;border-radius: 0.25em;background-color: #f0f8ff;}#sk-container-id-1 input.sk-toggleable__control:checked~div.sk-toggleable__content {max-height: 200px;max-width: 100%;overflow: auto;}#sk-container-id-1 input.sk-toggleable__control:checked~label.sk-toggleable__label-arrow:before {content: \"▾\";}#sk-container-id-1 div.sk-estimator input.sk-toggleable__control:checked~label.sk-toggleable__label {background-color: #d4ebff;}#sk-container-id-1 div.sk-label input.sk-toggleable__control:checked~label.sk-toggleable__label {background-color: #d4ebff;}#sk-container-id-1 input.sk-hidden--visually {border: 0;clip: rect(1px 1px 1px 1px);clip: rect(1px, 1px, 1px, 1px);height: 1px;margin: -1px;overflow: hidden;padding: 0;position: absolute;width: 1px;}#sk-container-id-1 div.sk-estimator {font-family: monospace;background-color: #f0f8ff;border: 1px dotted black;border-radius: 0.25em;box-sizing: border-box;margin-bottom: 0.5em;}#sk-container-id-1 div.sk-estimator:hover {background-color: #d4ebff;}#sk-container-id-1 div.sk-parallel-item::after {content: \"\";width: 100%;border-bottom: 1px solid gray;flex-grow: 1;}#sk-container-id-1 div.sk-label:hover label.sk-toggleable__label {background-color: #d4ebff;}#sk-container-id-1 div.sk-serial::before {content: \"\";position: absolute;border-left: 1px solid gray;box-sizing: border-box;top: 0;bottom: 0;left: 50%;z-index: 0;}#sk-container-id-1 div.sk-serial {display: flex;flex-direction: column;align-items: center;background-color: white;padding-right: 0.2em;padding-left: 0.2em;position: relative;}#sk-container-id-1 div.sk-item {position: relative;z-index: 1;}#sk-container-id-1 div.sk-parallel {display: flex;align-items: stretch;justify-content: center;background-color: white;position: relative;}#sk-container-id-1 div.sk-item::before, #sk-container-id-1 div.sk-parallel-item::before {content: \"\";position: absolute;border-left: 1px solid gray;box-sizing: border-box;top: 0;bottom: 0;left: 50%;z-index: -1;}#sk-container-id-1 div.sk-parallel-item {display: flex;flex-direction: column;z-index: 1;position: relative;background-color: white;}#sk-container-id-1 div.sk-parallel-item:first-child::after {align-self: flex-end;width: 50%;}#sk-container-id-1 div.sk-parallel-item:last-child::after {align-self: flex-start;width: 50%;}#sk-container-id-1 div.sk-parallel-item:only-child::after {width: 0;}#sk-container-id-1 div.sk-dashed-wrapped {border: 1px dashed gray;margin: 0 0.4em 0.5em 0.4em;box-sizing: border-box;padding-bottom: 0.4em;background-color: white;}#sk-container-id-1 div.sk-label label {font-family: monospace;font-weight: bold;display: inline-block;line-height: 1.2em;}#sk-container-id-1 div.sk-label-container {text-align: center;}#sk-container-id-1 div.sk-container {/* jupyter's `normalize.less` sets `[hidden] { display: none; }` but bootstrap.min.css set `[hidden] { display: none !important; }` so we also need the `!important` here to be able to override the default hidden behavior on the sphinx rendered scikit-learn.org. See: https://github.com/scikit-learn/scikit-learn/issues/21755 */display: inline-block !important;position: relative;}#sk-container-id-1 div.sk-text-repr-fallback {display: none;}</style><div id=\"sk-container-id-1\" class=\"sk-top-container\"><div class=\"sk-text-repr-fallback\"><pre>LinearRegression()</pre><b>In a Jupyter environment, please rerun this cell to show the HTML representation or trust the notebook. <br />On GitHub, the HTML representation is unable to render, please try loading this page with nbviewer.org.</b></div><div class=\"sk-container\" hidden><div class=\"sk-item\"><div class=\"sk-estimator sk-toggleable\"><input class=\"sk-toggleable__control sk-hidden--visually\" id=\"sk-estimator-id-1\" type=\"checkbox\" checked><label for=\"sk-estimator-id-1\" class=\"sk-toggleable__label sk-toggleable__label-arrow\">LinearRegression</label><div class=\"sk-toggleable__content\"><pre>LinearRegression()</pre></div></div></div></div></div>"
      ],
      "text/plain": [
       "LinearRegression()"
      ]
     },
     "execution_count": 77,
     "metadata": {},
     "output_type": "execute_result"
    }
   ],
   "source": [
    "reg.fit(df[['Age']], df['Income'])"
   ]
  },
  {
   "cell_type": "code",
   "execution_count": 78,
   "id": "aa8e9add",
   "metadata": {},
   "outputs": [
    {
     "name": "stderr",
     "output_type": "stream",
     "text": [
      "F:\\4-2\\conda\\Lib\\site-packages\\sklearn\\base.py:464: UserWarning: X does not have valid feature names, but LinearRegression was fitted with feature names\n",
      "  warnings.warn(\n"
     ]
    },
    {
     "data": {
      "text/plain": [
       "array([27483.45153664])"
      ]
     },
     "execution_count": 78,
     "metadata": {},
     "output_type": "execute_result"
    }
   ],
   "source": [
    "reg.predict([[25]])"
   ]
  },
  {
   "cell_type": "code",
   "execution_count": 79,
   "id": "a7d23699",
   "metadata": {},
   "outputs": [
    {
     "name": "stderr",
     "output_type": "stream",
     "text": [
      "F:\\4-2\\conda\\Lib\\site-packages\\sklearn\\base.py:464: UserWarning: X does not have valid feature names, but LinearRegression was fitted with feature names\n",
      "  warnings.warn(\n"
     ]
    },
    {
     "data": {
      "text/plain": [
       "array([25313.23877069])"
      ]
     },
     "execution_count": 79,
     "metadata": {},
     "output_type": "execute_result"
    }
   ],
   "source": [
    "reg.predict([[21]])"
   ]
  },
  {
   "cell_type": "code",
   "execution_count": 80,
   "id": "5195ee6e",
   "metadata": {},
   "outputs": [
    {
     "name": "stderr",
     "output_type": "stream",
     "text": [
      "F:\\4-2\\conda\\Lib\\site-packages\\sklearn\\base.py:464: UserWarning: X does not have valid feature names, but LinearRegression was fitted with feature names\n",
      "  warnings.warn(\n"
     ]
    },
    {
     "data": {
      "text/plain": [
       "array([22057.91962175])"
      ]
     },
     "execution_count": 80,
     "metadata": {},
     "output_type": "execute_result"
    }
   ],
   "source": [
    "reg.predict([[15]])"
   ]
  },
  {
   "cell_type": "code",
   "execution_count": 81,
   "id": "34e7f8a5",
   "metadata": {},
   "outputs": [
    {
     "name": "stderr",
     "output_type": "stream",
     "text": [
      "F:\\4-2\\conda\\Lib\\site-packages\\sklearn\\base.py:464: UserWarning: X does not have valid feature names, but LinearRegression was fitted with feature names\n",
      "  warnings.warn(\n"
     ]
    },
    {
     "data": {
      "text/plain": [
       "array([16632.38770686])"
      ]
     },
     "execution_count": 81,
     "metadata": {},
     "output_type": "execute_result"
    }
   ],
   "source": [
    "reg.predict([[5]])"
   ]
  },
  {
   "cell_type": "code",
   "execution_count": 82,
   "id": "5950484f",
   "metadata": {},
   "outputs": [
    {
     "data": {
      "text/plain": [
       "array([542.55319149])"
      ]
     },
     "execution_count": 82,
     "metadata": {},
     "output_type": "execute_result"
    }
   ],
   "source": [
    "reg.coef_"
   ]
  },
  {
   "cell_type": "code",
   "execution_count": 83,
   "id": "7c4fb39a",
   "metadata": {},
   "outputs": [
    {
     "data": {
      "text/plain": [
       "13919.62174940898"
      ]
     },
     "execution_count": 83,
     "metadata": {},
     "output_type": "execute_result"
    }
   ],
   "source": [
    "reg.intercept_"
   ]
  },
  {
   "cell_type": "code",
   "execution_count": 84,
   "id": "70916e14",
   "metadata": {},
   "outputs": [
    {
     "name": "stderr",
     "output_type": "stream",
     "text": [
      "F:\\4-2\\conda\\Lib\\site-packages\\sklearn\\base.py:464: UserWarning: X does not have valid feature names, but LinearRegression was fitted with feature names\n",
      "  warnings.warn(\n"
     ]
    },
    {
     "data": {
      "text/plain": [
       "array([25855.79196217])"
      ]
     },
     "execution_count": 84,
     "metadata": {},
     "output_type": "execute_result"
    }
   ],
   "source": [
    "reg.predict([[22]])"
   ]
  },
  {
   "cell_type": "code",
   "execution_count": null,
   "id": "658e5cee",
   "metadata": {},
   "outputs": [],
   "source": []
  }
 ],
 "metadata": {
  "kernelspec": {
   "display_name": "Python 3 (ipykernel)",
   "language": "python",
   "name": "python3"
  },
  "language_info": {
   "codemirror_mode": {
    "name": "ipython",
    "version": 3
   },
   "file_extension": ".py",
   "mimetype": "text/x-python",
   "name": "python",
   "nbconvert_exporter": "python",
   "pygments_lexer": "ipython3",
   "version": "3.11.5"
  }
 },
 "nbformat": 4,
 "nbformat_minor": 5
}
